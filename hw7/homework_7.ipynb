{
 "cells": [
  {
   "cell_type": "markdown",
   "metadata": {},
   "source": [
    "# Neural Networks\n",
    "\n",
    "Reference: [Deep Learning chapter 6](https://www.deeplearningbook.org/contents/mlp.html)\n",
    "\n",
    "In this course, we have explored different types of function approximators: linear functions, polynomials, support vector machines, radial basis function kernels, etc. Neural networks are another function class that happen to be extremely useful in many machine learning applications. We will introduce neural networks using an example.\n",
    "\n",
    "## 1. Example: learning XOR\n",
    "\n",
    "The XOR function takes two binary inputs $x_1$ and $x_2$ and returns $1$ if $(x_1,x_2) = (1,0)$ or $(0,1)$, and returns $0$ if $(x_1,x_2) = (0,0)$ or $(1,1)$. Let's try to learn this function. In this example, the only data is the set of 2-dimensional binary vectors $(0,0), (1,0), (0,1),$ and $(1,1)$. This is used as both the training and test data.\n",
    "\n",
    "### 1.1 Fit XOR using linear function\n",
    "\n",
    "First, let's use least squares regression and try to find a linear function to perform the XOR task."
   ]
  },
  {
   "cell_type": "code",
   "execution_count": 2,
   "metadata": {},
   "outputs": [
    {
     "name": "stdout",
     "output_type": "stream",
     "text": [
      "weights:  [0. 0.]\n",
      "bias:  [0.5]\n",
      "Predictions:  [0.5 0.5 0.5 0.5]\n",
      "True labels:  [0 1 1 0]\n"
     ]
    }
   ],
   "source": [
    "import numpy as np\n",
    "import matplotlib.pyplot as plt\n",
    "\n",
    "X = np.array([[0,0],[1,0],[0,1],[1,1]]) # matrix of inputs\n",
    "y = np.array([[0],[1],[1],[0]]) # vector of desired outputs\n",
    "X_augmented = np.hstack((X,np.ones((4,1)))) # add column of 1's for bias feature\n",
    "w = np.linalg.inv(X_augmented.T@X_augmented)@X_augmented.T@y # Least squares solution for weights\n",
    "print(\"weights: \", np.round(w[0:2,0],2))\n",
    "print(\"bias: \", np.round(w[-1],2))\n",
    "print(\"Predictions: \",(X_augmented@w).flatten())\n",
    "print(\"True labels: \",y.flatten())"
   ]
  },
  {
   "cell_type": "markdown",
   "metadata": {},
   "source": [
    "The linear least squares estimator outputs a constant value of 0.5 and is unable to represent the XOR function. Could this be due to a poor choice of loss function? What if we tried LASSO instead of least squares regression? \n",
    "\n",
    "In this example, the choice of loss function is not the root of the problem. If $x_1 = 0$, then the estimator must be increasing in $x_2$ (as $x_2$ increases from $0$ to $1$, the output must increase from $0$ to $1$). If $x_1 = 1$, then the estimator must be decreasing in $x_2$ (as $x_2$ increases from $0$ to $1$, the output must decrease from $1$ to $0$). However, a linear estimator must choose a constant weight, either positive, negative, or zero, for $x_2$, and cannot have a weight that depends on the value of $x_1$. A linear estimator cannot learn the XOR function.\n",
    "\n",
    "### 1. 2 Fit XOR using piecewise linear function\n",
    "\n",
    "Now let's construct a simple nonlinear estimator that can perform the XOR task. First apply an affine transformation to the input data: "
   ]
  },
  {
   "cell_type": "code",
   "execution_count": 3,
   "metadata": {},
   "outputs": [
    {
     "name": "stdout",
     "output_type": "stream",
     "text": [
      "[[0]\n",
      " [1]\n",
      " [1]\n",
      " [2]]\n"
     ]
    }
   ],
   "source": [
    "w = np.array([[1],[1]])\n",
    "Z = X@w # z = x_1 + x_2\n",
    "print(Z)"
   ]
  },
  {
   "cell_type": "markdown",
   "metadata": {},
   "source": [
    "From this transformation it's clear we want a function that outputs $0$ when $z = 0$ or $2$, and that outputs $1$ when $z = 1$. This can be accomplished by a simple piecewise linear function:"
   ]
  },
  {
   "cell_type": "code",
   "execution_count": 4,
   "metadata": {},
   "outputs": [
    {
     "name": "stdout",
     "output_type": "stream",
     "text": [
      "Inputs:  0 1 2\n",
      "Predictions:  [0. 1. 0.]\n"
     ]
    },
    {
     "data": {
      "image/png": "[encoded data removed]",
      "text/plain": [
       "<Figure size 432x288 with 1 Axes>"
      ]
     },
     "metadata": {
      "needs_background": "light"
     },
     "output_type": "display_data"
    }
   ],
   "source": [
    "def f(Z): # Define a piecewise linear function\n",
    "    f = np.zeros(len(Z))\n",
    "    f[Z <= 1] = Z[Z<=1] # f(z) = z if z <= 1\n",
    "    f[Z > 1] = 2 - Z[Z > 1] # f(z) = 2-z if z > 1\n",
    "    return f\n",
    "\n",
    "# Plot the function:\n",
    "y_hat = []\n",
    "Z = np.linspace(0,2,21)\n",
    "Y_hat = f(Z)\n",
    "plt.plot(Z,Y_hat,'g',label = 'f')\n",
    "Z_test = np.array([0,1,2])\n",
    "plt.plot(Z_test,[0,1,0],'rs',label='query points')\n",
    "plt.legend()\n",
    "plt.xlabel('z value')\n",
    "plt.ylabel('output of estimator')\n",
    "\n",
    "print(\"Inputs: \",0,1,2)\n",
    "print(\"Predictions: \", f(Z_test))"
   ]
  },
  {
   "cell_type": "markdown",
   "metadata": {},
   "source": [
    "In other words, the XOR function can be written as $g(x) = f(w^Tx)$, where $w^T = [1 \\ 1]$ and $f$ is the piecewise linear function shown in green above. However, this was a simple problem that we were able to solve by inspection. How can we generalize this solution technique to more difficult problems?\n",
    "\n",
    "### 1.3 Writing piecewise linear function as sum of ReLU functions\n",
    "\n",
    "The ReLU function, short for rectified linear unit, is given by \n",
    "\n",
    "<center> $r(z) = max(0,z).$ </center>\n",
    "\n",
    "If $z$ is a vector, the ReLU function will act separately on each element of the vector.\n",
    "\n",
    "What does the ReLU function look like?"
   ]
  },
  {
   "cell_type": "code",
   "execution_count": 5,
   "metadata": {},
   "outputs": [
    {
     "data": {
      "image/png": "[encoded data removed]",
      "text/plain": [
       "<Figure size 432x288 with 1 Axes>"
      ]
     },
     "metadata": {
      "needs_background": "light"
     },
     "output_type": "display_data"
    }
   ],
   "source": [
    "relu = lambda z: np.maximum(0,z) # Use lambda syntax to conveniently define a one line function\n",
    "\n",
    "z = np.linspace(-1,1,21)\n",
    "plt.plot(z,relu(z))\n",
    "plt.xlabel('z')\n",
    "plt.ylabel('r(z)');"
   ]
  },
  {
   "cell_type": "markdown",
   "metadata": {},
   "source": [
    "ReLU functions can be combined (using translation, scaling, addition, and function composition) to express piecewise linear functions in a compact, convenient manner. How is this done for the XOR function?\n",
    "\n",
    "Using ReLUs, we can write $f$ as \n",
    "\n",
    "<center> $f(z) = f_1(z) + f_2(z)$, where <center>\n",
    "    \n",
    "<center> $f_1(z) = r(z)$ and <center> \n",
    "    \n",
    "<center> $f_2(z) = - 2r(z-1)$.<center>\n",
    "    \n",
    "Let's plot $f_1$ and $f_2$:"
   ]
  },
  {
   "cell_type": "code",
   "execution_count": 6,
   "metadata": {},
   "outputs": [
    {
     "data": {
      "image/png": "[encoded data removed]",
      "text/plain": [
       "<Figure size 432x288 with 1 Axes>"
      ]
     },
     "metadata": {
      "needs_background": "light"
     },
     "output_type": "display_data"
    }
   ],
   "source": [
    "f1 = lambda z: relu(z)\n",
    "f2 = lambda z: - 2*relu(z - 1)\n",
    "Z = np.linspace(-1,2,31)\n",
    "plt.plot(Z,f1(Z),'k--',label='f1',linewidth=.75)\n",
    "plt.plot(Z,f2(Z),'b--',label='f2',linewidth=.75)\n",
    "plt.legend();"
   ]
  },
  {
   "cell_type": "markdown",
   "metadata": {},
   "source": [
    "Now, adding $f_1$ and $f_2$ gives the desired behavior on the interval $[0,2]$. "
   ]
  },
  {
   "cell_type": "code",
   "execution_count": 7,
   "metadata": {},
   "outputs": [
    {
     "data": {
      "image/png": "[encoded data removed]",
      "text/plain": [
       "<Figure size 432x288 with 1 Axes>"
      ]
     },
     "metadata": {
      "needs_background": "light"
     },
     "output_type": "display_data"
    }
   ],
   "source": [
    "f = lambda z: f1(z) + f2(z)\n",
    "plt.plot(Z_test,[0,1,0],'rs',label='query points')\n",
    "plt.plot(Z,f(Z),'g',label='f = f1 + f2')\n",
    "plt.plot(Z,f1(Z),'k--',label='f1',linewidth=.75)\n",
    "plt.plot(Z,f2(Z),'b--',label='f2',linewidth=.75)\n",
    "plt.legend();"
   ]
  },
  {
   "cell_type": "markdown",
   "metadata": {},
   "source": [
    "### 1.4 Writing sum of ReLU functions using matrix vector notation\n",
    "\n",
    "Combinations of ReLU functions can be expressed compactly using matrix vector notation. For the XOR example, it looks like this:"
   ]
  },
  {
   "cell_type": "code",
   "execution_count": 8,
   "metadata": {},
   "outputs": [
    {
     "name": "stdout",
     "output_type": "stream",
     "text": [
      "See if this works: \n",
      "Inputs: \n",
      " [[0 0]\n",
      " [1 0]\n",
      " [0 1]\n",
      " [1 1]]\n",
      "Outputs: \n",
      "  [[0]\n",
      " [1]\n",
      " [1]\n",
      " [0]]\n"
     ]
    }
   ],
   "source": [
    "W_1 = np.array([[1,1],[1,1]]) # 2 rows each equal to [1 1] since we need 2 copies of z = x_1 + x_2\n",
    "b_1 = np.array([[0],[-1]])\n",
    "W_2 = np.array([[1,-2]])\n",
    "b_2 = np.array([[0]])\n",
    "g = W_2 @ relu(W_1@X.T + b_1) + b_2\n",
    "print(\"See if this works: \")\n",
    "print(\"Inputs: \\n\", X)\n",
    "print(\"Outputs: \\n \", g.T)"
   ]
  },
  {
   "cell_type": "markdown",
   "metadata": {},
   "source": [
    "What exactly is $g$ doing? \n",
    "\n",
    "1. Input $x$, a vector in $R^2$\n",
    "2. Multiply by the matrix $W_1$\n",
    "3. Add the bias $b_1$\n",
    "4. Apply the ReLU function elementwise\n",
    "5. Multiply by the matrix $W_2$\n",
    "6. Add the bias $b_2$\n",
    "\n",
    "This fits into a more general framework:\n",
    "\n",
    "1. Multiply by a weight matrix\n",
    "2. Add a bias vector\n",
    "3. Apply a nonlinear \"activation\" function elementwise\n",
    "4. Repeat\n",
    "\n",
    "By following this process, we can construct powerful estimators called neural networks that can represent almost any function.\n",
    "\n",
    "Note: instead of ReLU, it is possible to use other [activation functions](https://en.wikipedia.org/wiki/Activation_function).\n",
    "\n",
    "### 1.5 Fit XOR using neural networks and Pytorch\n",
    "\n",
    "[Pytorch](https://pytorch.org/docs/stable/index.html) is a Python package for machine learning and neural networks. In this class, we will be using it for all programming problems involving neural networks. To introduce Pytorch, we will stick with the current theme and try to learn the XOR function. "
   ]
  },
  {
   "cell_type": "code",
   "execution_count": 9,
   "metadata": {},
   "outputs": [],
   "source": [
    "import torch\n",
    "import torch.nn as nn\n",
    "\n",
    "# Source: https://pytorch.org/tutorials/beginner/basics/intro.html"
   ]
  },
  {
   "cell_type": "markdown",
   "metadata": {},
   "source": [
    "The problem data is stored in ```tensors``` which are like numpy arrays but have additional functionality for machine learning applications."
   ]
  },
  {
   "cell_type": "code",
   "execution_count": 10,
   "metadata": {},
   "outputs": [],
   "source": [
    "# Problem data:\n",
    "X = torch.tensor([[0,0],[1,0],[0,1],[1,1]]).float()\n",
    "Y = torch.tensor([[0],[1],[1],[0]]).float()"
   ]
  },
  {
   "cell_type": "markdown",
   "metadata": {},
   "source": [
    "Below, we construct a neural network in the Pytorch syntax. The base class is called the Pytorch Module, and neural networks are built on top of these modules. Modules (and neural networks) generally consist of 2 functions, ```__init__``` and ```forward```. The ```__init__``` function sets the structure of the network and ```forward``` evaluates it (takes an input and returns the output of the network). "
   ]
  },
  {
   "cell_type": "code",
   "execution_count": 11,
   "metadata": {},
   "outputs": [],
   "source": [
    "# Neural network class:\n",
    "class XOR_net(nn.Module): \n",
    "    def __init__(self):\n",
    "        super(XOR_net, self).__init__()\n",
    "        self.model = nn.Sequential( # Define the structure of the network\n",
    "            nn.Linear(2,2), # First linear layer: 2 inputs and 2 outputs\n",
    "            nn.ReLU(),\n",
    "            nn.Linear(2,1), # Second linear layer: 2 inputs, 1 output\n",
    "        )\n",
    "\n",
    "    def forward(self, x): \n",
    "        return self.model(x)\n",
    "    \n",
    "net = XOR_net() # Create the neural network"
   ]
  },
  {
   "cell_type": "markdown",
   "metadata": {},
   "source": [
    "For the purposes of illustration, we will fix some of the parameters in the network at their desired values. This ensures that the solution the algorithm finds will be the same as the hand-picked solution that we have been working with, since there are infinitely many solutions that correctly perform the XOR task."
   ]
  },
  {
   "cell_type": "code",
   "execution_count": 12,
   "metadata": {},
   "outputs": [],
   "source": [
    "# Fix the weights in the first layer and the biases in the last layer:\n",
    "net.model[0].weight = nn.Parameter(torch.ones_like(net.model[0].weight))\n",
    "net.model[0].weight.requires_grad=False\n",
    "net.model[2].bias = None"
   ]
  },
  {
   "cell_type": "markdown",
   "metadata": {},
   "source": [
    "In order to fit any dataset, we need to define a loss function. For this example, let's stick with the L2 or mean squared error loss. "
   ]
  },
  {
   "cell_type": "code",
   "execution_count": 13,
   "metadata": {},
   "outputs": [],
   "source": [
    "# Loss function for training:\n",
    "loss_fn = nn.MSELoss()"
   ]
  },
  {
   "cell_type": "markdown",
   "metadata": {},
   "source": [
    "Now that we have a neural network and a loss function, it's time to optimize the weights of the network to fit the data. To accomplish this, we will use gradient descent. In Pytorch, we define an ```optimizer``` which performs the task of adjusting the weights a small amount in the direction of the gradient of the loss function with respect to the weights. The training process is summarized as follows:\n",
    "\n",
    "1. Use the network to make a prediction for each training example\n",
    "2. Compute the loss associated with these predictions\n",
    "3. Compute the gradient of the training loss with respect to the neural network parameters\n",
    "4. Update the parameters of the network by taking a small step in the direction of the gradient\n",
    "5. Repeat until the loss stops improving, or until a certain number of iterations is reached"
   ]
  },
  {
   "cell_type": "code",
   "execution_count": 14,
   "metadata": {},
   "outputs": [],
   "source": [
    "# Create an 'optimizer' object for training:\n",
    "learning_rate = 1e-3\n",
    "optimizer = torch.optim.Adam(net.parameters(), lr=learning_rate)\n",
    "\n",
    "loss_traj = []\n",
    "\n",
    "# Function that performs one iteration of gradient descent to improve the model parameters:\n",
    "def train_loop(net,loss_fn,optimizer,X_train,Y_train):\n",
    "    pred = net(X_train) # this calls the net.forward function, returning one prediction for each row of X.\n",
    "    loss = loss_fn(pred, Y_train) # compute the loss associated with the predictions\n",
    "    loss_traj.append(loss) # Record the loss at each iteration\n",
    "\n",
    "    # Gradient descent\n",
    "    optimizer.zero_grad() # Reset the gradients to zero\n",
    "    loss.backward() # Compute the gradient of the loss with respect to each weight in the network\n",
    "    optimizer.step() # Take a gradient step"
   ]
  },
  {
   "cell_type": "markdown",
   "metadata": {},
   "source": [
    "We are finally ready to train the network."
   ]
  },
  {
   "cell_type": "code",
   "execution_count": null,
   "metadata": {
    "scrolled": true
   },
   "outputs": [],
   "source": [
    "T = 5000 # Set maximum number of iterations\n",
    "for t in range(T):\n",
    "    train_loop(net,loss_fn,optimizer,X,Y) # Take a gradient step\n",
    "    \n",
    "print(\"Predictions: \\n\", np.round(net(X).detach().numpy(),2))\n",
    "print(\"Weights:\")\n",
    "print(\"W_1 = \\n \", net.model[0].weight[:,:].detach().numpy())\n",
    "print(\"b_1 = \\n\", np.round(net.model[0].bias[:].detach().numpy(),2))\n",
    "print(\"W_2 = \\n\",np.round(net.model[2].weight[:,:].detach().numpy(),2))\n",
    "\n",
    "plt.plot(loss_traj)\n",
    "plt.xlabel('Iteration number')\n",
    "plt.ylabel('Training loss');"
   ]
  },
  {
   "cell_type": "markdown",
   "metadata": {},
   "source": [
    "In summary, neural networks provide a way to generate functions with complex behavior by combining elementary \"building blocks\" or nonlinear activation functions. Let's extend this technique to some examples in power sytems."
   ]
  },
  {
   "cell_type": "markdown",
   "metadata": {},
   "source": [
    "## 2. Example: fault detection in power systems\n",
    "\n",
    "In order to understand how a power system is functioning, we need to know 4 quantities at each bus:\n",
    "* Real power injection\n",
    "* Reactive power injection\n",
    "* Voltage magnitude\n",
    "* Voltage angle\n",
    "\n",
    "In the event that a transmission line goes down, these quantities will change, indicating that something has happened. In this example, we consider a power system with 30 buses. 10 of the buses are equipped with [phasor measurement units](https://en.wikipedia.org/wiki/Phasor_measurement_unit) that allow us to measure the voltage angle in real time. The task is to measure the voltage angles at the ten buses and to determine whether a fault has occurred.\n",
    "\n",
    "The data consists of observations ```X``` and labels ```Y```. Each row of ```X``` consists of a set of voltage angle measurements at the 10 buses under observation. The labels take on binary values, with 0 corresponding to no fault and 1 corresponding to the presence of a fault when the measurement was taken."
   ]
  },
  {
   "cell_type": "code",
   "execution_count": 1,
   "metadata": {},
   "outputs": [
    {
     "ename": "NameError",
     "evalue": "name 'np' is not defined",
     "output_type": "error",
     "traceback": [
      "\u001b[0;31m---------------------------------------------------------------------------\u001b[0m",
      "\u001b[0;31mNameError\u001b[0m                                 Traceback (most recent call last)",
      "\u001b[0;32m<ipython-input-1-80d78f67861d>\u001b[0m in \u001b[0;36m<module>\u001b[0;34m\u001b[0m\n\u001b[1;32m      1\u001b[0m \u001b[0;31m# Load data and split into training and test sets\u001b[0m\u001b[0;34m\u001b[0m\u001b[0;34m\u001b[0m\u001b[0;34m\u001b[0m\u001b[0m\n\u001b[1;32m      2\u001b[0m \u001b[0;34m\u001b[0m\u001b[0m\n\u001b[0;32m----> 3\u001b[0;31m \u001b[0mXY\u001b[0m \u001b[0;34m=\u001b[0m \u001b[0mnp\u001b[0m\u001b[0;34m.\u001b[0m\u001b[0mloadtxt\u001b[0m\u001b[0;34m(\u001b[0m\u001b[0;34m'fault_detection_data.txt'\u001b[0m\u001b[0;34m)\u001b[0m\u001b[0;34m\u001b[0m\u001b[0;34m\u001b[0m\u001b[0m\n\u001b[0m\u001b[1;32m      4\u001b[0m \u001b[0;34m\u001b[0m\u001b[0m\n\u001b[1;32m      5\u001b[0m \u001b[0mM\u001b[0m \u001b[0;34m=\u001b[0m \u001b[0mnp\u001b[0m\u001b[0;34m.\u001b[0m\u001b[0mshape\u001b[0m\u001b[0;34m(\u001b[0m\u001b[0mXY\u001b[0m\u001b[0;34m)\u001b[0m\u001b[0;34m[\u001b[0m\u001b[0;36m0\u001b[0m\u001b[0;34m]\u001b[0m \u001b[0;31m# Size of dataset\u001b[0m\u001b[0;34m\u001b[0m\u001b[0;34m\u001b[0m\u001b[0m\n",
      "\u001b[0;31mNameError\u001b[0m: name 'np' is not defined"
     ]
    }
   ],
   "source": [
    "# Load data and split into training and test sets\n",
    "\n",
    "XY = np.loadtxt('fault_detection_data.txt')\n",
    "\n",
    "M = np.shape(XY)[0] # Size of dataset\n",
    "n = int(.8*M) # Size of training set\n",
    "X_train = XY[0:n,0:-1]\n",
    "Y_train = XY[0:n,-1]\n",
    "X_test = XY[n:,0:-1]\n",
    "Y_test = XY[n:,-1]"
   ]
  },
  {
   "cell_type": "markdown",
   "metadata": {},
   "source": [
    "First, let's train a linear classifier to detect faults based on voltage measurements."
   ]
  },
  {
   "cell_type": "code",
   "execution_count": null,
   "metadata": {},
   "outputs": [],
   "source": [
    "# Train a linear classifier for comparison\n",
    "\n",
    "from sklearn.linear_model import LogisticRegression\n",
    "\n",
    "logistic_classifier = LogisticRegression()\n",
    "logistic_classifier.fit(X_train,Y_train)\n",
    "Y_hat_train = logistic_classifier.predict(X_train)\n",
    "print(\"Training error rate: \", np.sum(np.abs(Y_train-Y_hat_train))/n)\n",
    "Y_hat_test = logistic_classifier.predict(X_test)\n",
    "print(\"Test error rate: \", np.sum(np.abs(Y_test-Y_hat_test))/(M-n))"
   ]
  },
  {
   "cell_type": "markdown",
   "metadata": {},
   "source": [
    "The test error rate is 38%. Let's see if a neural network can do better. "
   ]
  },
  {
   "cell_type": "code",
   "execution_count": 242,
   "metadata": {
    "scrolled": false
   },
   "outputs": [
    {
     "name": "stdout",
     "output_type": "stream",
     "text": [
      "Training error rate:  0.004166666666666667\n",
      "Test error rate:  0.26666666666666666\n"
     ]
    },
    {
     "data": {
      "image/png": "[encoded data removed]",
      "text/plain": [
       "<Figure size 432x288 with 1 Axes>"
      ]
     },
     "metadata": {
      "needs_background": "light"
     },
     "output_type": "display_data"
    }
   ],
   "source": [
    "# Convert data from numpy array to pytorch tensor:\n",
    "X_train_torch = torch.tensor(X_train).float()\n",
    "Y_train_torch = torch.tensor(Y_train).float()\n",
    "X_test_torch = torch.tensor(X_test).float()\n",
    "Y_test_torch = torch.tensor(Y_test).float()\n",
    "\n",
    "n_pmu = X_train.shape[1]\n",
    "\n",
    "# Neural network class:\n",
    "class fault_net(nn.Module): \n",
    "    def __init__(self,n_hidden): # Passing the parameter n_hidden to the __init__ function allows us to customize the width of the network\n",
    "        super(fault_net, self).__init__()\n",
    "        self.model = nn.Sequential(\n",
    "            nn.Linear(n_pmu,n_hidden),\n",
    "            nn.ReLU(),\n",
    "            nn.Linear(n_hidden,n_hidden),\n",
    "            nn.ReLU(),\n",
    "            nn.Linear(n_hidden,1),\n",
    "        )\n",
    "\n",
    "    def forward(self, x): \n",
    "        return torch.sigmoid(self.model(x)) # Sigmoid clamps the output between 0 and 1 for binary classification\n",
    "    \n",
    "# Loss function for training:\n",
    "loss_fn = nn.BCELoss() # Same loss function as for logistic regression\n",
    "\n",
    "n_hidden = 64 # The width of each hidden layer in the network\n",
    "net = fault_net(n_hidden) # Create neural network of width n_hidden\n",
    "\n",
    "# Create an 'optimizer' object for training:\n",
    "learning_rate = 1e-3\n",
    "optimizer = torch.optim.Adam(net.parameters(), lr=learning_rate)\n",
    "\n",
    "loss_traj = []\n",
    "    \n",
    "T = 10000\n",
    "for t in range(T):\n",
    "    train_loop(net,loss_fn,optimizer,X_train_torch,Y_train_torch.unsqueeze(1))\n",
    "    \n",
    "Y_hat_train = torch.round(net(X_train_torch)) # Round predictions to 0 or 1\n",
    "Y_hat_test = torch.round(net(X_test_torch))\n",
    "print(\"Training error rate: \", torch.sum(torch.abs(Y_train_torch-Y_hat_train.flatten())).item()/n)\n",
    "print(\"Test error rate: \", torch.sum(torch.abs(Y_test_torch-Y_hat_test.flatten())).item()/(M-n))\n",
    "plt.plot(loss_traj)\n",
    "plt.xlabel('Iteration number')\n",
    "plt.ylabel('Training loss');"
   ]
  },
  {
   "cell_type": "markdown",
   "metadata": {},
   "source": [
    "## 3. Example: state estimation\n",
    "\n",
    "In Homework 2, we looked at the problem of estimating the voltage angles in a power grid, given line flow and bus injection measurements. Let's revisit this example using neural networks. In this problem, we will try to estimate voltage angles using only power injection measurements."
   ]
  },
  {
   "cell_type": "code",
   "execution_count": 18,
   "metadata": {},
   "outputs": [
    {
     "name": "stdout",
     "output_type": "stream",
     "text": [
      "232\n"
     ]
    }
   ],
   "source": [
    "# Load data and split into training and test sets\n",
    "\n",
    "XY = np.loadtxt('state_estimation_data.txt')\n",
    "\n",
    "nbus = 30\n",
    "\n",
    "M = np.shape(XY)[0] # Size of dataset\n",
    "n = int(.8*M) # Size of training set\n",
    "X_train = XY[0:n,0:nbus]\n",
    "Y_train = XY[0:n,nbus:]\n",
    "X_test = XY[n:,0:nbus]\n",
    "Y_test = XY[n:,nbus:] # Note that there are 30 columns in X but only 29 columns in Y. That's because the voltage angle at the reference bus is always assumed to be 0, so we don't need to predict it."
   ]
  },
  {
   "cell_type": "markdown",
   "metadata": {},
   "source": [
    "First, let's check the performance of a linear model:"
   ]
  },
  {
   "cell_type": "code",
   "execution_count": 244,
   "metadata": {},
   "outputs": [
    {
     "name": "stdout",
     "output_type": "stream",
     "text": [
      "Training error:  0.31710994169875123\n",
      "Test error:  0.8971148005248587\n"
     ]
    }
   ],
   "source": [
    "from sklearn.linear_model import LinearRegression\n",
    "\n",
    "linear_regressor = LinearRegression()\n",
    "W = np.zeros((nbus,nbus-1))\n",
    "b = np.zeros((nbus-1))\n",
    "\n",
    "for i in range(nbus-1): # Get seperate column of weights for each angle measurement (skip slack bus)\n",
    "    linear_regressor.fit(X_train,Y_train[:,i])\n",
    "    W[:,i] = linear_regressor.coef_\n",
    "    b[i] = linear_regressor.intercept_\n",
    "    \n",
    "Y_hat_train = X_train@W + b\n",
    "Y_hat_test = X_test@W + b\n",
    "print(\"Training error: \", np.linalg.norm(Y_hat_train-Y_train,'fro')**2/n)\n",
    "print(\"Test error: \", np.linalg.norm(Y_hat_test-Y_test,'fro')**2/(M-n))"
   ]
  },
  {
   "cell_type": "markdown",
   "metadata": {},
   "source": [
    "Now, for a neural network:"
   ]
  },
  {
   "cell_type": "code",
   "execution_count": 245,
   "metadata": {},
   "outputs": [
    {
     "name": "stdout",
     "output_type": "stream",
     "text": [
      "Training error:  0.08762215822935104\n",
      "Test error:  14.269968032836914\n"
     ]
    },
    {
     "data": {
      "image/png": "[encoded data removed]",
      "text/plain": [
       "<Figure size 432x288 with 1 Axes>"
      ]
     },
     "metadata": {
      "needs_background": "light"
     },
     "output_type": "display_data"
    }
   ],
   "source": [
    "X_train_torch = torch.tensor(X_train).float()\n",
    "Y_train_torch = torch.tensor(Y_train).float()\n",
    "X_test_torch = torch.tensor(X_test).float()\n",
    "Y_test_torch = torch.tensor(Y_test).float()\n",
    "\n",
    "# Neural network class:\n",
    "class state_net(nn.Module): \n",
    "    def __init__(self):\n",
    "        super(state_net, self).__init__()\n",
    "        n_hidden = 256\n",
    "        self.model = nn.Sequential(\n",
    "            nn.Linear(nbus,n_hidden),\n",
    "            nn.ReLU(),\n",
    "            nn.Linear(n_hidden,n_hidden),\n",
    "            nn.ReLU(),\n",
    "            nn.Linear(n_hidden,n_hidden),\n",
    "            nn.ReLU(),\n",
    "            nn.Linear(n_hidden,nbus-1),\n",
    "        )\n",
    "\n",
    "    def forward(self, x): \n",
    "        return self.model(x)\n",
    "    \n",
    "# Loss function for training:\n",
    "loss_fn = nn.MSELoss()\n",
    "\n",
    "net = state_net() # Create neural network\n",
    "\n",
    "# Create an 'optimizer' object for training:\n",
    "learning_rate = 1e-3\n",
    "optimizer = torch.optim.Adam(net.parameters(), lr=learning_rate)\n",
    "\n",
    "loss_traj = []\n",
    "    \n",
    "T = 400\n",
    "for t in range(T):\n",
    "    train_loop(net,loss_fn,optimizer,X_train_torch,Y_train_torch)\n",
    "    \n",
    "Y_hat_train = net(X_train_torch)\n",
    "Y_hat_test = net(X_test_torch)\n",
    "print(\"Training error: \", (torch.linalg.norm(Y_hat_train-Y_train_torch,ord='fro')**2/n).item())\n",
    "print(\"Test error: \", (torch.linalg.norm(Y_hat_test-Y_test_torch,ord='fro')**2/(M-n)).item())\n",
    "plt.plot(loss_traj)\n",
    "plt.xlabel('Iteration number')\n",
    "plt.ylabel('Training loss');"
   ]
  },
  {
   "cell_type": "markdown",
   "metadata": {},
   "source": [
    "In this example, the neural network performs substantially better on the training dataset and substantially worse on the test dataset. This is an example of _overfitting_."
   ]
  },
  {
   "cell_type": "markdown",
   "metadata": {},
   "source": [
    "# Homework questions\n",
    "\n",
    "## Problem 1: Hyperparameter selection\n",
    "\n",
    "Modify the example code from the fault detection problem to include a hyperparameter tuning routine. Your code should:\n",
    "* Randomly generate values for ```n_hidden``` (the width of each hidden layer in the neural network) and ```lr``` (learning rate)\n",
    "* Create a network of width ```n_hidden``` and an optimizer with learning rate ```lr```\n",
    "* Train the network and record the hyperparemeters and the test error\n",
    "* Repeat\n",
    "\n",
    "Plot the test error vs. iteration number. Also plot the best test error seen up to that point in the hyperparemeter training process vs. iteration number."
   ]
  },
  {
   "cell_type": "code",
   "execution_count": null,
   "metadata": {},
   "outputs": [],
   "source": [
    "# insert your code here"
   ]
  },
  {
   "cell_type": "markdown",
   "metadata": {},
   "source": [
    "## Problem 2: Stochastic gradient descent\n",
    "\n",
    "In the above examples, we trained the neural networks using gradient descent. [Stochastic gradient descent](https://en.wikipedia.org/wiki/Stochastic_gradient_descent) (SGD) is a different algorithm for optimizing the parameters of a neural network. In SGD, we only consider one or a few training samples per iteration, instead of using the entire training dataset. By considering only a few data points at a time, the algorithm will take a less direct path towards the optimum. However, the approach is popular because it is faster to execute each training iteration.\n",
    "\n",
    "For this problem, modify the example code from the state estimation problem to implement SGD. For each iteration, the function ```train_loop``` should:\n",
    "* Randomly select a subset of the rows of ```X_train``` and ```Y_train``` (called a \"minibatch\")\n",
    "    * Hint: use ```torch.randint``` to randomly generate row numbers.\n",
    "* Use the neural network to make predictions on the minibatch\n",
    "* Evalutate the loss associated with these predictions\n",
    "* Take a step in the direction of the gradient of the minibatch loss\n",
    "\n",
    "Plot the training loss as a function of the iteration number. How do the batch size and learning rate affect the results?"
   ]
  },
  {
   "cell_type": "code",
   "execution_count": null,
   "metadata": {},
   "outputs": [],
   "source": [
    "# insert your code here"
   ]
  }
 ],
 "metadata": {
  "kernelspec": {
   "display_name": "Python 3",
   "language": "python",
   "name": "python3"
  },
  "language_info": {
   "codemirror_mode": {
    "name": "ipython",
    "version": 3
   },
   "file_extension": ".py",
   "mimetype": "text/x-python",
   "name": "python",
   "nbconvert_exporter": "python",
   "pygments_lexer": "ipython3",
   "version": "3.8.5"
  }
 },
 "nbformat": 4,
 "nbformat_minor": 4
}
