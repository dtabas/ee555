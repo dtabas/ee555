{
 "cells": [
  {
   "cell_type": "markdown",
   "metadata": {},
   "source": [
    "# Programming Assignment 2 - solutions\n",
    "\n",
    "authors: Daniel Tabas (TA) and Chase Dowling\n",
    "\n",
    "contact: dtabas@uw.edu\n",
    "\n",
    "course: EE PMP 555, Spring '22"
   ]
  },
  {
   "cell_type": "code",
   "execution_count": 67,
   "metadata": {},
   "outputs": [],
   "source": [
    "#here we'll construct the neccessary matrices for the above example network\n",
    "\n",
    "import numpy as np\n",
    "import matplotlib.pyplot as plt\n",
    "\n",
    "#node edge incidence matrix scaled by admittance\n",
    "#these are just arbitrary admittance values for this assignment\n",
    "F = np.array([[3,0,-3,0],\n",
    "              [0,5,-5,0],\n",
    "              [0,5,0,-5],\n",
    "              [0,0,4,-4]])\n",
    "\n",
    "self_admittance = np.sum(np.abs(F), axis=0)\n",
    "\n",
    "off_diag = np.array([[0,0,-3,0],\n",
    "                     [0,0,-5,-5],\n",
    "                     [-3,-5,0,-4],\n",
    "                     [0,-5,-4,0]])\n",
    "\n",
    "#admittance matrix\n",
    "B = np.diag(self_admittance) + off_diag\n",
    "\n",
    "#stacked\n",
    "H = np.vstack((F, B))"
   ]
  },
  {
   "cell_type": "code",
   "execution_count": 68,
   "metadata": {},
   "outputs": [
    {
     "name": "stdout",
     "output_type": "stream",
     "text": [
      "[[ 0.05]\n",
      " [-0.02]\n",
      " [-0.01]\n",
      " [ 0.02]\n",
      " [ 0.05]\n",
      " [-0.03]\n",
      " [-0.01]\n",
      " [-0.01]]\n"
     ]
    }
   ],
   "source": [
    "#true flows and power injections for reference\n",
    "\n",
    "f = 0.01*np.array([5,-2,-1,2])\n",
    "p = 0.01*np.array([5,-3,-1,-1])\n",
    "\n",
    "z = np.expand_dims(np.append(f, p), axis=1)"
   ]
  },
  {
   "cell_type": "code",
   "execution_count": 70,
   "metadata": {},
   "outputs": [
    {
     "name": "stdout",
     "output_type": "stream",
     "text": [
      "Output of linear_model.LinearRegression().fit() method\n",
      "LinearRegression()\n",
      "\n",
      "\n",
      "Attributes of model object\n",
      "['__abstractmethods__', '__class__', '__delattr__', '__dict__', '__dir__', '__doc__', '__eq__', '__format__', '__ge__', '__getattribute__', '__getstate__', '__gt__', '__hash__', '__init__', '__init_subclass__', '__le__', '__lt__', '__module__', '__ne__', '__new__', '__reduce__', '__reduce_ex__', '__repr__', '__setattr__', '__setstate__', '__sizeof__', '__str__', '__subclasshook__', '__weakref__', '_abc_impl', '_check_n_features', '_decision_function', '_estimator_type', '_get_param_names', '_get_tags', '_more_tags', '_preprocess_data', '_repr_html_', '_repr_html_inner', '_repr_mimebundle_', '_residues', '_set_intercept', '_validate_data', 'coef_', 'copy_X', 'fit', 'fit_intercept', 'get_params', 'intercept_', 'n_features_in_', 'n_jobs', 'normalize', 'predict', 'rank_', 'score', 'set_params', 'singular_']\n",
      "\n",
      "\n"
     ]
    }
   ],
   "source": [
    "#to simplify our code, we can now use the least squares method in sklearn\n",
    "#https://scikit-learn.org/stable/modules/generated/sklearn.linear_model.LinearRegression.html\n",
    "from sklearn import linear_model\n",
    "\n",
    "#here's an example of how to use least squares to find the lowest energy solution to an \n",
    "#overdetermined linear system, in this case we have a _single_ sample of z\n",
    "\n",
    "model = linear_model.LinearRegression().fit(H, z)\n",
    "\n",
    "#notice that the object model isn't the vector x\n",
    "print(\"Output of linear_model.LinearRegression().fit() method\")\n",
    "print(model)\n",
    "print(\"\\n\")\n",
    "\n",
    "#it's an object with a large number of attributes, we can inspect them with the native Python function dir():\n",
    "print(\"Attributes of model object\")\n",
    "print(dir(model))\n",
    "print(\"\\n\")"
   ]
  },
  {
   "cell_type": "code",
   "execution_count": 71,
   "metadata": {},
   "outputs": [
    {
     "name": "stdout",
     "output_type": "stream",
     "text": [
      "Solution\n",
      "[[ 0.01457074 -0.00687391 -0.0019691  -0.00572774]]\n",
      "\n",
      "\n",
      "Error\n",
      "0.008011950937204\n",
      "\n",
      "\n"
     ]
    }
   ],
   "source": [
    "#notice that the \"Methods\" section of the LinearRegression manual page linked above lists \n",
    "#several attributes that appear in the list we printed with dir(). We care about 'coef_', this is the vector x\n",
    "print(\"Solution\")\n",
    "print(model.coef_)\n",
    "print(\"\\n\")\n",
    "\n",
    "#we can set this value to a variable and look at the error\n",
    "x_hat = model.coef_.T  #transpose it from (1,8) to (8,1)\n",
    "loss = np.linalg.norm(H.dot(x_hat) - z, 2)\n",
    "\n",
    "print(\"Error\")\n",
    "print(loss)\n",
    "print(\"\\n\")"
   ]
  },
  {
   "cell_type": "markdown",
   "metadata": {},
   "source": [
    "## Homework questions"
   ]
  },
  {
   "cell_type": "markdown",
   "metadata": {},
   "source": [
    "### Problem 1: L1 regression\n",
    "\n",
    "Let's look at how the LASSO regression problem works. There is no closed form solution so we often use a form of gradient descent called coordinate descent. For now we won't worry about how coordinate descent works, but just go ahead and see how the LASSO solution looks for various values of $\\lambda$. First read through the following example code."
   ]
  },
  {
   "cell_type": "code",
   "execution_count": 73,
   "metadata": {},
   "outputs": [
    {
     "data": {
      "image/png": "[encoded data removed]",
      "text/plain": [
       "<Figure size 432x288 with 1 Axes>"
      ]
     },
     "metadata": {
      "needs_background": "light"
     },
     "output_type": "display_data"
    },
    {
     "name": "stdout",
     "output_type": "stream",
     "text": [
      "coefficients: \n",
      "[-0.         -0.          0.         -0.          0.         -0.\n",
      "  0.          0.          0.          0.01148003  0.01730517]\n"
     ]
    }
   ],
   "source": [
    "#We're going to try and fit a polynomial function to a noisy time series and\n",
    "#see how various values of lambda influences the fit\n",
    "\n",
    "def poly_basis(x, k):\n",
    "    #this function will help us quickly generate a polynomial basis\n",
    "    #k is the largest polynomial degree the basis runs to\n",
    "    out = []\n",
    "    for i in range(k+1):\n",
    "        #notice that first value of i will be 0, so the bias term is included\n",
    "        out.append(np.power(x, i))\n",
    "    return(out)\n",
    "\n",
    "X_ran = np.arange(-2,2,0.004)  #the range of values we'll consider\n",
    "\n",
    "X_poly_basis = np.asarray(poly_basis(X_ran, 10)).T    #the range of values passed through a polynomial basis\n",
    "\n",
    "#generate a noisy time series\n",
    "Y = [0.0]\n",
    "for i in range(999):\n",
    "    Y.append(Y[-1]+np.random.normal(0,2))\n",
    "    \n",
    "#we need to solve for the weights w such that\n",
    "#X_poly_basis.dot(w) = Y, we'll use the LASSO objective that combines L2 and L1 loss\n",
    "\n",
    "#import the LASSO solver\n",
    "from sklearn import linear_model\n",
    "\n",
    "#we'll use the built in Lasso solver in Scikit-learn\n",
    "#the input value alpha is the regularization constant lambda as we've written above\n",
    "#don't mess with the input options other than alpha, for example, fit_intercept is default to be true\n",
    "#and assumes you didn't include the bias term in your basis function\n",
    "lasso_regressor = linear_model.Lasso(alpha=100, fit_intercept=False, tol=0.01, max_iter=10000)\n",
    "\n",
    "#this fits the outputs Y to the polynomial basis of inputs in the range -2 to 2\n",
    "lasso_regressor.fit(X_poly_basis, Y)\n",
    "\n",
    "#these are the weights the model learns\n",
    "w = lasso_regressor.coef_\n",
    "\n",
    "#we've used a large regularization constant, alpha=100, notice the model doesn't fit\n",
    "#very well\n",
    "\n",
    "plt.plot(X_ran,Y, label=\"data\")\n",
    "plt.plot(X_ran,X_poly_basis.dot(w), label=\"polynomial fit\")\n",
    "plt.legend()\n",
    "plt.show()\n",
    "\n",
    "print(\"coefficients: \")\n",
    "print(w)"
   ]
  },
  {
   "cell_type": "markdown",
   "metadata": {},
   "source": [
    "Now, fit with the LASSO regressor for several values of alpha between 0.001 and 100.0. Plot at least five different polynomial fits like the above for different values of alpha. For each alpha, print the coefficients that it solves for along with the plot and describe what's happening."
   ]
  },
  {
   "cell_type": "code",
   "execution_count": null,
   "metadata": {},
   "outputs": [],
   "source": [
    "# insert your code here\n",
    "\n",
    "for alpha in np.logspace(-3,2,5):\n",
    "    \n",
    "    plt.plot(X_ran,X_poly_basis.dot(w), label=\"polynomial fit\")\n",
    "    plt.legend()\n",
    "    plt.show()\n",
    "\n",
    "    print(\"coefficients: \")\n",
    "    print(w)"
   ]
  },
  {
   "cell_type": "markdown",
   "metadata": {},
   "source": [
    "### Problem 2: Norm balls\n",
    "\n",
    "The L1-and L2-norms are special cases of the Lp-norm, which is a family of functions that define a metric space where the data \"lives\". One way to think of machine learning tasks is transforming that metric space until the data resembles something manageable with simple models, almost like untangling a knot. The Lp-norm for an $n$ dimensional vector $x$ is defined as,\n",
    "\n",
    "<center>$||x||_{p} = (\\sum_{i=1}^{n}|x_{i}|^{p})^\\frac{1}{p} $</center>\n",
    "\n",
    "If we take the limit $p \\rightarrow \\infty$, then the L-$\\infty$ norm gives us a special function. For multiple values of p, plot the unit ball in 2 dimensions, and make a guess as to what the L-$\\infty$ norm looks like. The unit ball is the value of the norm for vectors a distance of 1 away from the origin according to the norm. Below are examples for the 1 and 2 norms. If p is too large, you won't be able to plot it with the functions I've given, so look at values of p like 3, 4, and 5 and then make a guess."
   ]
  },
  {
   "cell_type": "code",
   "execution_count": 75,
   "metadata": {},
   "outputs": [
    {
     "data": {
      "image/png": "[encoded data removed]",
      "text/plain": [
       "<Figure size 432x288 with 1 Axes>"
      ]
     },
     "metadata": {
      "needs_background": "light"
     },
     "output_type": "display_data"
    }
   ],
   "source": [
    "def l1_norm(x):\n",
    "    out = 0\n",
    "    for x_i in x:\n",
    "        out += np.abs(x_i)\n",
    "    return(out)\n",
    "\n",
    "def l2_norm(x):\n",
    "    out = 0\n",
    "    for x_i in x:\n",
    "        out += np.power(x_i, 2)\n",
    "    return(np.sqrt(out))\n",
    "\n",
    "x_1 = np.arange(-1,1,0.01)\n",
    "x_2 = np.arange(-1,1,0.01)\n",
    "tol = 0.01\n",
    "\n",
    "l1_unit_ball_values = []\n",
    "l2_unit_ball_values = []\n",
    "\n",
    "for x_i in x_1:\n",
    "    for x_j in x_2:\n",
    "        l1 = l1_norm([x_i, x_j])\n",
    "        l2 = l2_norm([x_i, x_j])\n",
    "        if l1 > 1 - tol and  l1 < 1 + tol:   #check to see if the value of the L1 norm is close to 1\n",
    "            l1_unit_ball_values.append([x_i, x_j])\n",
    "        if l2 > 1 - tol and l2 < 1 + tol:    #check to see if the value of the L2 norm is close to 1 \n",
    "            l2_unit_ball_values.append([x_i, x_j])\n",
    "        \n",
    "l1_ball = np.asarray(l1_unit_ball_values) #transform the list of vectors/pairs into a numpy array\n",
    "l2_ball = np.asarray(l2_unit_ball_values)\n",
    "\n",
    "plt.scatter(l1_ball[:,0], l1_ball[:,1], label=\"l1 ball\")\n",
    "plt.scatter(l2_ball[:,0], l2_ball[:,1], label=\"l2 ball\")\n",
    "plt.legend(loc=2)\n",
    "plt.axis('equal') #this makes the axes the same scale so that the circle isn't elliptical looking\n",
    "plt.show()"
   ]
  },
  {
   "cell_type": "code",
   "execution_count": null,
   "metadata": {},
   "outputs": [],
   "source": [
    "#add your code here, consider writing a more general\n",
    "#function than l1_norm() or l2_norm() above for the lp_norm"
   ]
  },
  {
   "cell_type": "markdown",
   "metadata": {},
   "source": [
    "### Problem 3: Linear state estimation in power systems\n",
    "\n",
    "For this problem you'll need to read the [scikit-learn documentation](https://scikit-learn.org/stable/modules/generated/sklearn.linear_model.LinearRegression.html) carefully. You are given $k$ noisy samples of $z$: the line flows and power injections. Instantiate a linear model and find the solution $x$ of nodal phase angles. Print the loss (1 value across all samples). Hint: you're going to find an $x$ for each sample of $z$, we need to find the best $x$ the minimizes the loss for any $z$."
   ]
  },
  {
   "cell_type": "code",
   "execution_count": null,
   "metadata": {},
   "outputs": [],
   "source": [
    "#here are the samples, they are not formatted correctly, you'll need to format them correctly \n",
    "#in order to use linear_model.LinearRegression().fit()\n",
    "samples_1 = []\n",
    "\n",
    "for i in range(100):\n",
    "    samples_1.append(z + np.random.normal(0,0.02,size=z.shape)) #the true value + some noise"
   ]
  },
  {
   "cell_type": "code",
   "execution_count": null,
   "metadata": {},
   "outputs": [],
   "source": [
    "#insert your code here"
   ]
  },
  {
   "cell_type": "markdown",
   "metadata": {},
   "source": [
    "### Problem 4: Weighted estimation\n",
    "\n",
    "Our example power grid has very good power injection sensors with very little noise variance, and our cheaper line flow sensors have very high noise variance. In the example below, we show how to performed _weighted_ least squares, in order to bias the solution to rely on the high quality data more than the low quality data."
   ]
  },
  {
   "cell_type": "code",
   "execution_count": null,
   "metadata": {},
   "outputs": [],
   "source": [
    "weights = np.ones(z.shape)[:,0]  #the weights object must be 1-dimensional\n",
    "model = linear_model.LinearRegression().fit(H, z, sample_weight=weights)  \n",
    "x_hat = model.coef_.T\n",
    "\n",
    "#here I've just passed in weights equal to 1, so the solution is unchanged"
   ]
  },
  {
   "cell_type": "code",
   "execution_count": 103,
   "metadata": {},
   "outputs": [],
   "source": [
    "# Here, we generate some noisy samples where the injection sensors are accurate and the line flow sensors are noisy.\n",
    "\n",
    "samples_2 = []\n",
    "\n",
    "for i in range(100):\n",
    "    injection_noise = np.random.normal(0,0.01,size=z[0:4].shape)  #variance equal to 0.01\n",
    "    line_noise = np.random.normal(0,0.03,size=z[0:4].shape)       #variance equal to 0.03\n",
    "    samples_2.append(z + np.expand_dims(np.append(line_noise,injection_noise),axis=1)) #the true value + some noise\n",
    "    \n",
    "samples_2 = np.asarray(samples_2)[:,:,0].T"
   ]
  },
  {
   "cell_type": "markdown",
   "metadata": {},
   "source": [
    "Now, find a vector of sample weights that improves on the loss over the vector of weights all equal to 1."
   ]
  },
  {
   "cell_type": "code",
   "execution_count": null,
   "metadata": {},
   "outputs": [],
   "source": [
    "#insert your code here"
   ]
  },
  {
   "cell_type": "markdown",
   "metadata": {},
   "source": [
    "### Problem 5: Eliminating outliers\n",
    "\n",
    "We are again given a sequence of observations of power flows and injection, but there are several bad measurements. The noise is Gaussian; use what we know about the Gaussian distribution to derive a threshold-type means of eliminating outlier data. Compare the loss of the model with and without the outliers."
   ]
  },
  {
   "cell_type": "code",
   "execution_count": 111,
   "metadata": {},
   "outputs": [
    {
     "name": "stdout",
     "output_type": "stream",
     "text": [
      "(100, 8)\n"
     ]
    }
   ],
   "source": [
    "#100 x 8 array of z samples\n",
    "samples_3_array = np.loadtxt(\"homework_2_data.txt\")"
   ]
  },
  {
   "cell_type": "code",
   "execution_count": 92,
   "metadata": {},
   "outputs": [],
   "source": [
    "#insert your code here"
   ]
  }
 ],
 "metadata": {
  "kernelspec": {
   "display_name": "Python 3",
   "language": "python",
   "name": "python3"
  },
  "language_info": {
   "codemirror_mode": {
    "name": "ipython",
    "version": 3
   },
   "file_extension": ".py",
   "mimetype": "text/x-python",
   "name": "python",
   "nbconvert_exporter": "python",
   "pygments_lexer": "ipython3",
   "version": "3.8.5"
  }
 },
 "nbformat": 4,
 "nbformat_minor": 4
}
