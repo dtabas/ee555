{
 "cells": [
  {
   "cell_type": "markdown",
   "metadata": {},
   "source": [
    "# Programming Assignment 2 - solutions\n",
    "\n",
    "authors: Daniel Tabas (TA) and Chase Dowling\n",
    "\n",
    "contact: dtabas@uw.edu\n",
    "\n",
    "course: EE PMP 555, Spring '22"
   ]
  },
  {
   "cell_type": "code",
   "execution_count": 2,
   "metadata": {},
   "outputs": [],
   "source": [
    "#here we'll construct the neccessary matrices for the above example network\n",
    "\n",
    "import numpy as np\n",
    "import matplotlib.pyplot as plt\n",
    "\n",
    "#node edge incidence matrix scaled by admittance\n",
    "#these are just arbitrary admittance values for this assignment\n",
    "F = np.array([[3,0,-3,0],\n",
    "              [0,5,-5,0],\n",
    "              [0,5,0,-5],\n",
    "              [0,0,4,-4]])\n",
    "\n",
    "self_admittance = np.sum(np.abs(F), axis=0)\n",
    "\n",
    "off_diag = np.array([[0,0,-3,0],\n",
    "                     [0,0,-5,-5],\n",
    "                     [-3,-5,0,-4],\n",
    "                     [0,-5,-4,0]])\n",
    "\n",
    "#admittance matrix\n",
    "B = np.diag(self_admittance) + off_diag\n",
    "\n",
    "#stacked\n",
    "H = np.vstack((F, B))"
   ]
  },
  {
   "cell_type": "code",
   "execution_count": 3,
   "metadata": {},
   "outputs": [],
   "source": [
    "#true flows and power injections for reference\n",
    "\n",
    "f = 0.01*np.array([5,-2,-1,2])\n",
    "p = 0.01*np.array([5,-3,-1,-1])\n",
    "\n",
    "z = np.expand_dims(np.append(f, p), axis=1)"
   ]
  },
  {
   "cell_type": "markdown",
   "metadata": {},
   "source": [
    "## Homework questions"
   ]
  },
  {
   "cell_type": "markdown",
   "metadata": {},
   "source": [
    "### Problem 1: L1 regression\n",
    "\n",
    "Let's look at how the LASSO regression problem works. There is no closed form solution so we often use a form of gradient descent called coordinate descent. For now we won't worry about how coordinate descent works, but just go ahead and see how the LASSO solution looks for various values of $\\lambda$. First read through the following example code."
   ]
  },
  {
   "cell_type": "code",
   "execution_count": 4,
   "metadata": {},
   "outputs": [
    {
     "data": {
      "image/png": "[encoded data removed]",
      "text/plain": [
       "<Figure size 432x288 with 1 Axes>"
      ]
     },
     "metadata": {
      "needs_background": "light"
     },
     "output_type": "display_data"
    },
    {
     "name": "stdout",
     "output_type": "stream",
     "text": [
      "coefficients: \n",
      "[-0.         -0.         -0.         -0.         -0.         -0.\n",
      " -0.02764215 -0.         -1.18675482 -0.20374273  0.17584097]\n"
     ]
    }
   ],
   "source": [
    "#We're going to try and fit a polynomial function to a noisy time series and\n",
    "#see how various values of lambda influences the fit\n",
    "\n",
    "def poly_basis(x, k):\n",
    "    #this function will help us quickly generate a polynomial basis\n",
    "    #k is the largest polynomial degree the basis runs to\n",
    "    out = []\n",
    "    for i in range(k+1):\n",
    "        #notice that first value of i will be 0, so the bias term is included\n",
    "        out.append(np.power(x, i))\n",
    "    return(out)\n",
    "\n",
    "X_ran = np.arange(-2,2,0.004)  #the range of values we'll consider\n",
    "\n",
    "X_poly_basis = np.asarray(poly_basis(X_ran, 10)).T    #the range of values passed through a polynomial basis\n",
    "\n",
    "#generate a noisy time series\n",
    "Y = [0.0]\n",
    "for i in range(999):\n",
    "    Y.append(Y[-1]+np.random.normal(0,2))\n",
    "    \n",
    "#we need to solve for the weights w such that\n",
    "#X_poly_basis.dot(w) = Y, we'll use the LASSO objective that combines L2 and L1 loss\n",
    "\n",
    "#import the LASSO solver\n",
    "from sklearn import linear_model\n",
    "\n",
    "#we'll use the built in Lasso solver in Scikit-learn\n",
    "#the input value alpha is the regularization constant lambda as we've written above\n",
    "#don't mess with the input options other than alpha, for example, fit_intercept is default to be true\n",
    "#and assumes you didn't include the bias term in your basis function\n",
    "lasso_regressor = linear_model.Lasso(alpha=100, fit_intercept=False, tol=0.01, max_iter=10000)\n",
    "\n",
    "#this fits the outputs Y to the polynomial basis of inputs in the range -2 to 2\n",
    "lasso_regressor.fit(X_poly_basis, Y)\n",
    "\n",
    "#these are the weights the model learns\n",
    "w = lasso_regressor.coef_\n",
    "\n",
    "#we've used a large regularization constant, alpha=100, notice the model doesn't fit\n",
    "#very well\n",
    "\n",
    "plt.plot(X_ran,Y, label=\"data\")\n",
    "plt.plot(X_ran,X_poly_basis.dot(w), label=\"polynomial fit\")\n",
    "plt.legend()\n",
    "plt.show()\n",
    "\n",
    "print(\"coefficients: \")\n",
    "print(w)"
   ]
  },
  {
   "cell_type": "markdown",
   "metadata": {},
   "source": [
    "Now, fit with the LASSO regressor for several values of alpha between 0.001 and 100.0. Plot at least five different polynomial fits like the above for different values of alpha. For each alpha, print the coefficients that it solves for along with the plot and describe what's happening."
   ]
  },
  {
   "cell_type": "code",
   "execution_count": 5,
   "metadata": {},
   "outputs": [
    {
     "name": "stdout",
     "output_type": "stream",
     "text": [
      "coefficients: \n",
      "[-4.38593507e+01 -2.15021537e+01 -1.11400107e+01 -6.18955923e-01\n",
      " -2.39795203e-01 -2.33023068e-01 -1.38345963e-03 -6.10128567e-02\n",
      "  8.48739915e-03 -1.48219107e-02  3.54155354e-03]\n",
      "coefficients: \n",
      "[-4.38477100e+01 -2.14817984e+01 -1.11372824e+01 -6.24353361e-01\n",
      " -2.41645529e-01 -2.33481046e-01 -1.47886542e-03 -6.09878553e-02\n",
      "  8.48127335e-03 -1.48062983e-02  3.55186865e-03]\n",
      "coefficients: \n",
      "[-4.37313035e+01 -2.12782446e+01 -1.11099995e+01 -6.78327740e-01\n",
      " -2.60148789e-01 -2.38060830e-01 -2.43292331e-03 -6.07378414e-02\n",
      "  8.42001526e-03 -1.46501746e-02  3.65501972e-03]\n",
      "coefficients: \n",
      "[-4.20461416e+01 -2.15631521e+01 -9.26512635e+00 -1.92400740e-01\n",
      " -6.21341859e-01 -0.00000000e+00 -5.60758823e-01 -2.22012669e-02\n",
      " -2.68946911e-03 -5.31757447e-02  4.28503182e-02]\n",
      "coefficients: \n",
      "[-33.69925221  -0.          -0.          -0.          -0.\n",
      "  -4.42648649  -3.38942259  -0.          -0.           0.14065627\n",
      "   0.17280081]\n"
     ]
    },
    {
     "data": {
      "image/png": "[encoded data removed]",
      "text/plain": [
       "<Figure size 432x288 with 1 Axes>"
      ]
     },
     "metadata": {
      "needs_background": "light"
     },
     "output_type": "display_data"
    }
   ],
   "source": [
    "# insert your code here\n",
    "\n",
    "plt.figure()\n",
    "plt.plot(X_ran,Y, label=\"data\")\n",
    "\n",
    "for alpha in [.001,.01,.1,1,10]:\n",
    "    \n",
    "    lasso_regressor = linear_model.Lasso(alpha=alpha, fit_intercept=False, tol=0.01, max_iter=1000000)\n",
    "\n",
    "    #this fits the outputs Y to the polynomial basis of inputs in the range -2 to 2\n",
    "    lasso_regressor.fit(X_poly_basis, Y)\n",
    "\n",
    "    #these are the weights the model learns\n",
    "    w = lasso_regressor.coef_\n",
    "    \n",
    "    plt.plot(X_ran,X_poly_basis.dot(w), label=fr'polynomial fit, $\\alpha$ = {alpha}')\n",
    "    plt.legend()\n",
    "\n",
    "    print(\"coefficients: \")\n",
    "    print(w)\n",
    "    \n",
    "plt.show()"
   ]
  },
  {
   "cell_type": "markdown",
   "metadata": {},
   "source": [
    "What is happening? As $\\alpha$ increases, the number of coefficients that are exactly zero increases. We see a decrease in model complexity paralleled by a decrease in fidelity."
   ]
  },
  {
   "cell_type": "markdown",
   "metadata": {},
   "source": [
    "### Problem 2: Norm balls\n",
    "\n",
    "The L1-and L2-norms are special cases of the Lp-norm, which is a family of functions that define a metric space where the data \"lives\". One way to think of machine learning tasks is transforming that metric space until the data resembles something manageable with simple models, almost like untangling a knot. The Lp-norm for an $n$ dimensional vector $x$ is defined as,\n",
    "\n",
    "<center>$||x||_{p} = (\\sum_{i=1}^{n}|x_{i}|^{p})^\\frac{1}{p} $</center>\n",
    "\n",
    "If we take the limit $p \\rightarrow \\infty$, then the L-$\\infty$ norm gives us a special function. For multiple values of p, plot the unit ball in 2 dimensions, and make a guess as to what the L-$\\infty$ norm looks like. The unit ball is the value of the norm for vectors a distance of 1 away from the origin according to the norm. Below are examples for the 1 and 2 norms. If p is too large, you won't be able to plot it with the functions I've given, so look at values of p like 3, 4, and 5 and then make a guess."
   ]
  },
  {
   "cell_type": "code",
   "execution_count": 6,
   "metadata": {},
   "outputs": [
    {
     "data": {
      "image/png": "[encoded data removed]",
      "text/plain": [
       "<Figure size 432x288 with 1 Axes>"
      ]
     },
     "metadata": {
      "needs_background": "light"
     },
     "output_type": "display_data"
    }
   ],
   "source": [
    "def l1_norm(x):\n",
    "    out = 0\n",
    "    for x_i in x:\n",
    "        out += np.abs(x_i)\n",
    "    return(out)\n",
    "\n",
    "def l2_norm(x):\n",
    "    out = 0\n",
    "    for x_i in x:\n",
    "        out += np.power(x_i, 2)\n",
    "    return(np.sqrt(out))\n",
    "\n",
    "x_1 = np.arange(-1,1,0.01)\n",
    "x_2 = np.arange(-1,1,0.01)\n",
    "tol = 0.01\n",
    "\n",
    "l1_unit_ball_values = []\n",
    "l2_unit_ball_values = []\n",
    "\n",
    "for x_i in x_1:\n",
    "    for x_j in x_2:\n",
    "        l1 = l1_norm([x_i, x_j])\n",
    "        l2 = l2_norm([x_i, x_j])\n",
    "        if l1 > 1 - tol and  l1 < 1 + tol:   #check to see if the value of the L1 norm is close to 1\n",
    "            l1_unit_ball_values.append([x_i, x_j])\n",
    "        if l2 > 1 - tol and l2 < 1 + tol:    #check to see if the value of the L2 norm is close to 1 \n",
    "            l2_unit_ball_values.append([x_i, x_j])\n",
    "        \n",
    "l1_ball = np.asarray(l1_unit_ball_values) #transform the list of vectors/pairs into a numpy array\n",
    "l2_ball = np.asarray(l2_unit_ball_values)\n",
    "\n",
    "plt.scatter(l1_ball[:,0], l1_ball[:,1], label=\"l1 ball\")\n",
    "plt.scatter(l2_ball[:,0], l2_ball[:,1], label=\"l2 ball\")\n",
    "plt.legend(loc=2)\n",
    "plt.axis('equal') #this makes the axes the same scale so that the circle isn't elliptical looking\n",
    "plt.show()"
   ]
  },
  {
   "cell_type": "code",
   "execution_count": 7,
   "metadata": {},
   "outputs": [
    {
     "data": {
      "image/png": "[encoded data removed]",
      "text/plain": [
       "<Figure size 432x288 with 1 Axes>"
      ]
     },
     "metadata": {
      "needs_background": "light"
     },
     "output_type": "display_data"
    }
   ],
   "source": [
    "#add your code here, consider writing a more general\n",
    "#function than l1_norm() or l2_norm() above for the lp_norm\n",
    "\n",
    "def lp_norm(x,p):\n",
    "    return np.sum(np.abs(x)**p)**(1/p)\n",
    "\n",
    "def plot_ball(p):\n",
    "    x_1 = np.arange(-1,1,0.01)\n",
    "    x_2 = np.arange(-1,1,0.01)\n",
    "    tol = 0.01\n",
    "\n",
    "    unit_ball_values = []\n",
    "    \n",
    "    for x_i in x_1:\n",
    "        for x_j in x_2:\n",
    "            lp = lp_norm(np.array([x_i, x_j]),p)\n",
    "            if lp > 1 - tol and  lp < 1 + tol:   #check to see if the value of the L1 norm is close to 1\n",
    "                unit_ball_values.append([x_i, x_j])\n",
    "            \n",
    "    lp_ball = np.asarray(unit_ball_values)\n",
    "    \n",
    "    plt.scatter(lp_ball[:,0], lp_ball[:,1],label=f\"l{p} ball\")\n",
    "        \n",
    "for p in [1,2,3,4,5]:\n",
    "    plot_ball(p)\n",
    "\n",
    "plt.legend()\n",
    "plt.axis('equal') #this makes the axes the same scale so that the circle isn't elliptical looking\n",
    "plt.show()"
   ]
  },
  {
   "cell_type": "markdown",
   "metadata": {},
   "source": [
    "As $p \\rightarrow \\infty$, we can see that the norm ball approaches a hypercube given by the Cartesian product of intervals $[-1,1]$. The $\\infty$-norm unit ball is the set of vectors whose largest component is exactly 1 in magnitude."
   ]
  },
  {
   "cell_type": "markdown",
   "metadata": {},
   "source": [
    "### Problem 3: Linear state estimation in power systems\n",
    "\n",
    "For this problem you'll need to read the [scikit-learn documentation](https://scikit-learn.org/stable/modules/generated/sklearn.linear_model.LinearRegression.html) carefully. You are given $k$ noisy samples of $z$: the line flows and power injections. Instantiate a linear model and find the solution $x$ of nodal phase angles. Print the loss (1 value across all samples). Hint: you're going to find an $x$ for each sample of $z$, we need to find the best $x$ the minimizes the loss for any $z$."
   ]
  },
  {
   "cell_type": "code",
   "execution_count": 8,
   "metadata": {},
   "outputs": [],
   "source": [
    "#here are the samples, they are not formatted correctly, you'll need to format them correctly \n",
    "#in order to use linear_model.LinearRegression().fit()\n",
    "samples_1 = []\n",
    "\n",
    "for i in range(100):\n",
    "    samples_1.append(z + np.random.normal(0,0.02,size=z.shape)) #the true value + some noise"
   ]
  },
  {
   "cell_type": "code",
   "execution_count": 9,
   "metadata": {},
   "outputs": [
    {
     "name": "stdout",
     "output_type": "stream",
     "text": [
      "(100, 8)\n",
      "size of solving for all x's at once: (100, 4) \n",
      "\n",
      "best x: [ 0.01414757 -0.00663985 -0.00178356 -0.00572415] \n",
      "\n",
      "Error: 0.2339889012039404 \n",
      "\n"
     ]
    }
   ],
   "source": [
    "#insert your code here\n",
    "\n",
    "samples_1 = np.asarray(samples_1)[:,:,0]\n",
    "print(samples_1.shape)\n",
    "\n",
    "model = linear_model.LinearRegression().fit(H, samples_1.T) #find the best x for each sample\n",
    "x_s = model.coef_ #get the x's\n",
    "print(\"size of solving for all x's at once:\", x_s.shape, \"\\n\")  #100 x's of size 8\n",
    "x_hat = np.mean(x_s, axis=0)   #since the noise is Gaussian, the mean of all the best x's will minimize the loss for any z sample in sample_1 list\n",
    "print(\"best x:\", x_hat, \"\\n\")\n",
    "loss = np.linalg.norm(H.dot(x_hat) - z, 2)\n",
    "print(\"Error:\", loss, \"\\n\")"
   ]
  },
  {
   "cell_type": "markdown",
   "metadata": {},
   "source": [
    "Note that the usual least squares solution given by $(H^TH)^{-1}H^T\\bar{z}$ where $\\bar{z}$ is the average across samples doesn't work because $H$ is not full rank. To see this, just check that the columns sum to the zero vector. This is a result of the way $B$ and $F$ are defined. Since $H$ is not full rank, $H^TH$ is not invertible. There are several ways to remedy this. One way is to use the SVD to compute the pseudoinverse of $H$. Another way is to eliminate one of the columns of $H$ by measuring voltage angles relative to a slack bus. Ask the TA if you would like a longer explanation."
   ]
  },
  {
   "cell_type": "markdown",
   "metadata": {},
   "source": [
    "### Problem 4: Weighted estimation\n",
    "\n",
    "Our example power grid has very good power injection sensors with very little noise variance, and our cheaper line flow sensors have very high noise variance. In the example below, we show how to performed _weighted_ least squares, in order to bias the solution to rely on the high quality data more than the low quality data."
   ]
  },
  {
   "cell_type": "code",
   "execution_count": 10,
   "metadata": {},
   "outputs": [],
   "source": [
    "weights = np.ones(z.shape)[:,0]  #the weights object must be 1-dimensional\n",
    "model = linear_model.LinearRegression().fit(H, z, sample_weight=weights)  \n",
    "x_hat = model.coef_.T\n",
    "\n",
    "#here I've just passed in weights equal to 1, so the solution is unchanged"
   ]
  },
  {
   "cell_type": "code",
   "execution_count": 11,
   "metadata": {},
   "outputs": [],
   "source": [
    "# Here, we generate some noisy samples where the injection sensors are accurate and the line flow sensors are noisy.\n",
    "\n",
    "samples_2 = []\n",
    "\n",
    "for i in range(100):\n",
    "    injection_noise = np.random.normal(0,0.01,size=z[0:4].shape)  #variance equal to 0.01\n",
    "    line_noise = np.random.normal(0,0.03,size=z[0:4].shape)       #variance equal to 0.03\n",
    "    samples_2.append(z + np.expand_dims(np.append(line_noise,injection_noise),axis=1)) #the true value + some noise\n",
    "    \n",
    "samples_2 = np.asarray(samples_2)[:,:,0].T"
   ]
  },
  {
   "cell_type": "markdown",
   "metadata": {},
   "source": [
    "Now, find a vector of sample weights that improves on the loss over the vector of weights all equal to 1."
   ]
  },
  {
   "cell_type": "code",
   "execution_count": 12,
   "metadata": {},
   "outputs": [
    {
     "name": "stdout",
     "output_type": "stream",
     "text": [
      "Error: 0.23449755051499468 \n",
      "\n",
      "Error: 0.2344695736791063 \n",
      "\n"
     ]
    }
   ],
   "source": [
    "#insert your code here\n",
    "\n",
    "f = 0.01*np.array([5,-2,-1,2])\n",
    "p = 0.01*np.array([5,-3,-1,-1])\n",
    "\n",
    "z = np.expand_dims(np.append(f, p), axis=1)\n",
    "\n",
    "weights_one = np.ones(z.shape)[:,0]  #the weights object must be 1-dimensional\n",
    "model = linear_model.LinearRegression().fit(H, samples_2, sample_weight=weights_one)  \n",
    "x_hat_one = np.mean(model.coef_, axis=0)\n",
    "\n",
    "weights_f = 0.9*np.ones(f.shape)\n",
    "weights_p = 1.1*np.ones(p.shape)\n",
    "weights = np.concatenate((weights_f, weights_p))\n",
    "model = linear_model.LinearRegression().fit(H, samples_2, sample_weight=weights)  #this sets *all* samples to this weight scheme\n",
    "x_hat_bias = np.mean(model.coef_, axis=0)\n",
    "\n",
    "loss = np.linalg.norm(H.dot(x_hat_one) - z, 2)\n",
    "print(\"Error:\", loss, \"\\n\")\n",
    "\n",
    "loss = np.linalg.norm(H.dot(x_hat_bias) - z, 2)\n",
    "print(\"Error:\", loss, \"\\n\")"
   ]
  },
  {
   "cell_type": "markdown",
   "metadata": {},
   "source": [
    "### Problem 5: Eliminating outliers\n",
    "\n",
    "We are again given a sequence of observations of power flows and injection, but there are several bad measurements. The noise is Gaussian; use what we know about the Gaussian distribution to derive a threshold-type means of eliminating outlier data. Compare the loss of the model with and without the outliers."
   ]
  },
  {
   "cell_type": "code",
   "execution_count": 13,
   "metadata": {},
   "outputs": [],
   "source": [
    "#100 x 8 array of z samples\n",
    "samples_3_array = np.loadtxt(\"homework_2_data.txt\")"
   ]
  },
  {
   "cell_type": "code",
   "execution_count": 14,
   "metadata": {},
   "outputs": [
    {
     "name": "stdout",
     "output_type": "stream",
     "text": [
      "outlier at index:  5\n",
      "outlier at index:  13\n",
      "outlier at index:  71\n",
      "outlier at index:  89\n",
      "\n",
      "\n",
      "size with outliers:  (96, 8)\n",
      "size without outliers:  (100, 8)\n",
      "loss with outliers:  1.324785493545909\n",
      "loss without outliers:  0.24142724950571204\n"
     ]
    }
   ],
   "source": [
    "#insert your code here\n",
    "\n",
    "sample_3_mean = np.mean(samples_3_array, axis=0)  #compute the sample mean\n",
    "sample_3_var = np.var(samples_3_array, axis=0)    #compute the sample variance\n",
    "\n",
    "#apply a Chi-squared test statistic to each feature column of z\n",
    "test_stats = []\n",
    "for row in range(samples_3_array.shape[0]):\n",
    "    test_stat = np.sum(np.power(np.power(sample_3_var, -1)*(samples_3_array[row,:] - sample_3_mean),2))\n",
    "    test_stats.append(test_stat)\n",
    "    \n",
    "outliers = []\n",
    "\n",
    "for i in range(len(test_stats)):\n",
    "    if test_stats[i] > 10:  #inspect the test stat values and find that there are small values and 4 very large ones, this threshold is arbitrary\n",
    "        outliers.append(i)\n",
    "        print(\"outlier at index: \", i)\n",
    "        \n",
    "outliers = np.array(outliers) #conver to array object to use np delete function\n",
    "\n",
    "samples_3_clean = np.delete(samples_3_array, outliers, axis=0)\n",
    "print(\"\\n\")\n",
    "print(\"size with outliers: \", samples_3_clean.shape)\n",
    "print(\"size without outliers: \", samples_3_array.shape)\n",
    "\n",
    "model = linear_model.LinearRegression().fit(H, samples_3_array.T)\n",
    "x_hat_outliers = np.mean(model.coef_, axis=0)\n",
    "loss_outliers = np.linalg.norm(H.dot(x_hat_outliers) - z, 2)\n",
    "\n",
    "model = linear_model.LinearRegression().fit(H, samples_3_clean.T)\n",
    "x_hat_clean = np.mean(model.coef_, axis=0)\n",
    "loss_clean = np.linalg.norm(H.dot(x_hat_clean) - z, 2)\n",
    "\n",
    "print(\"loss with outliers: \", loss_outliers)\n",
    "print(\"loss without outliers: \", loss_clean)"
   ]
  }
 ],
 "metadata": {
  "kernelspec": {
   "display_name": "Python 3",
   "language": "python",
   "name": "python3"
  },
  "language_info": {
   "codemirror_mode": {
    "name": "ipython",
    "version": 3
   },
   "file_extension": ".py",
   "mimetype": "text/x-python",
   "name": "python",
   "nbconvert_exporter": "python",
   "pygments_lexer": "ipython3",
   "version": "3.8.5"
  }
 },
 "nbformat": 4,
 "nbformat_minor": 4
}
