{
 "cells": [
  {
   "cell_type": "code",
   "execution_count": 4,
   "metadata": {},
   "outputs": [],
   "source": [
    "import numpy as np\n",
    "import matplotlib.pyplot as plt\n",
    "import sklearn.metrics\n",
    "from sklearn.svm import SVC\n",
    "from sklearn.linear_model import LogisticRegression"
   ]
  },
  {
   "cell_type": "code",
   "execution_count": 5,
   "metadata": {},
   "outputs": [],
   "source": [
    "#data for assignment\n",
    "training_data = np.loadtxt(\"homework_4_train.txt\")\n",
    "X_train = training_data[:,0:2] #selects columns 1 and 2, which are the x and y coords of the data\n",
    "Y_train = training_data[:,2] #selections column 3, which is the 0 or 1 label of the data\n",
    "\n",
    "test_data = np.loadtxt(\"homework_4_test.txt\")\n",
    "X_test = test_data[:,0:2]\n",
    "Y_test = test_data[:,2]"
   ]
  },
  {
   "cell_type": "markdown",
   "metadata": {},
   "source": [
    "### Problem 1"
   ]
  },
  {
   "cell_type": "code",
   "execution_count": 6,
   "metadata": {},
   "outputs": [
    {
     "name": "stdout",
     "output_type": "stream",
     "text": [
      "Training precision:  1.0\n",
      "Training recall:  1.0\n"
     ]
    }
   ],
   "source": [
    "logreg_model_obj = LogisticRegression()\n",
    "logreg_model_obj.fit(X_train, Y_train)\n",
    "\n",
    "Y_hat = logreg_model_obj.predict(X_train)\n",
    "\n",
    "p = sklearn.metrics.precision_score(Y_train, Y_hat)  #order of inputs for these functions is true, prediction\n",
    "r = sklearn.metrics.recall_score(Y_train, Y_hat)\n",
    "\n",
    "print(\"Training precision: \", p)\n",
    "print(\"Training recall: \", r)"
   ]
  },
  {
   "cell_type": "markdown",
   "metadata": {},
   "source": [
    "### Problem 2"
   ]
  },
  {
   "cell_type": "code",
   "execution_count": 7,
   "metadata": {},
   "outputs": [
    {
     "name": "stdout",
     "output_type": "stream",
     "text": [
      "Test precision:  0.9038461538461539\n",
      "Test recall:  0.94\n"
     ]
    }
   ],
   "source": [
    "Y_hat_test = logreg_model_obj.predict(X_test)  #notice I don't call fit again\n",
    "\n",
    "p = sklearn.metrics.precision_score(Y_test, Y_hat_test)   #again, make sure you note the order of the inputs\n",
    "r = sklearn.metrics.recall_score(Y_test, Y_hat_test)\n",
    "\n",
    "print(\"Test precision: \", p)\n",
    "print(\"Test recall: \", r)"
   ]
  },
  {
   "cell_type": "markdown",
   "metadata": {},
   "source": [
    "### Problem 3"
   ]
  },
  {
   "cell_type": "code",
   "execution_count": 10,
   "metadata": {},
   "outputs": [
    {
     "name": "stdout",
     "output_type": "stream",
     "text": [
      "(1000, 4)\n",
      "(1000,)\n",
      "[ 0.68446234 -0.78371288  0.12291841  0.48408458]\n"
     ]
    }
   ],
   "source": [
    "X = np.loadtxt(\"hw4_p3_X.txt\")\n",
    "Y = np.loadtxt(\"hw4_p3_Y.txt\")\n",
    "T = len(Y) - 2\n",
    "\n",
    "A = np.vstack((X[2:],Y[1:-1],Y[0:-2],np.ones(T))).T # 4 feature columns: x_t, y_{t-1}, y_{t-2}, and bias\n",
    "b = Y[2:]\n",
    "\n",
    "print(A.shape)\n",
    "print(b.shape)\n",
    "\n",
    "coefficients = np.linalg.inv(A.T@A)@A.T@b # Least squares solution\n",
    "print(coefficients)"
   ]
  },
  {
   "cell_type": "code",
   "execution_count": null,
   "metadata": {},
   "outputs": [],
   "source": []
  }
 ],
 "metadata": {
  "kernelspec": {
   "display_name": "Python 3",
   "language": "python",
   "name": "python3"
  },
  "language_info": {
   "codemirror_mode": {
    "name": "ipython",
    "version": 3
   },
   "file_extension": ".py",
   "mimetype": "text/x-python",
   "name": "python",
   "nbconvert_exporter": "python",
   "pygments_lexer": "ipython3",
   "version": "3.8.5"
  }
 },
 "nbformat": 4,
 "nbformat_minor": 2
}
